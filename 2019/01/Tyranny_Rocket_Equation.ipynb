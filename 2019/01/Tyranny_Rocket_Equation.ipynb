{
 "cells": [
  {
   "attachments": {},
   "cell_type": "markdown",
   "metadata": {},
   "source": [
    "The Elves quickly load you into a spacecraft and prepare to launch.\n",
    "\n",
    "At the first Go / No Go poll, every Elf is Go until the Fuel Counter-Upper. They haven't determined the amount of fuel required yet.\n",
    "\n",
    "Fuel required to launch a given module is based on its mass. Specifically, to find the fuel required for a module, take its mass, divide by three, round down, and subtract 2.\n",
    "\n",
    "For example:\n",
    "\n",
    "    For a mass of 12, divide by 3 and round down to get 4, then subtract 2 to get 2.\n",
    "    For a mass of 14, dividing by 3 and rounding down still yields 4, so the fuel required is also 2.\n",
    "    For a mass of 1969, the fuel required is 654.\n",
    "    For a mass of 100756, the fuel required is 33583.\n",
    "\n",
    "The Fuel Counter-Upper needs to know the total fuel requirement. To find it, individually calculate the fuel needed for the mass of each module (your puzzle input), then add together all the fuel values.  \n",
    "  \n",
    "  \n",
    "What is the sum of the fuel requirements for all of the modules on your spacecraft?"
   ]
  },
  {
   "cell_type": "code",
   "execution_count": 13,
   "metadata": {},
   "outputs": [
    {
     "name": "stdout",
     "output_type": "stream",
     "text": [
      "3362507\n"
     ]
    },
    {
     "data": {
      "text/plain": [
       "33583"
      ]
     },
     "execution_count": 13,
     "metadata": {},
     "output_type": "execute_result"
    }
   ],
   "source": [
    "# Part 1\n",
    "def fuel_counter_upper(mass):\n",
    "    return (mass//3) - 2\n",
    "\n",
    "result = 0\n",
    "with open(\"puzzle_data.txt\", \"r\") as file:\n",
    "    for line in file:\n",
    "        mass = int(line)\n",
    "        result += fuel_counter_upper(mass)\n",
    "print(result)\n",
    "\n",
    "fuel_counter_upper(100756)"
   ]
  },
  {
   "cell_type": "code",
   "execution_count": 9,
   "metadata": {},
   "outputs": [
    {
     "data": {
      "text/plain": [
       "33583"
      ]
     },
     "execution_count": 9,
     "metadata": {},
     "output_type": "execute_result"
    }
   ],
   "source": [
    "def fuel_counter_upper(mass):\n",
    "    return (mass//3) - 2\n",
    "\n",
    "fuel_counter_upper(100756)"
   ]
  },
  {
   "cell_type": "code",
   "execution_count": 15,
   "metadata": {},
   "outputs": [
    {
     "name": "stdout",
     "output_type": "stream",
     "text": [
      "1678238\n"
     ]
    }
   ],
   "source": [
    "# Part 2\n",
    "def fuel_counter_upper(mass):\n",
    "    fuel_req = 0\n",
    "    fuel_req += (mass//3) - 2\n",
    "    return fuel_req\n",
    "result = 0\n",
    "fuel_requirement = 0\n",
    "with open(\"puzzle_data.txt\", \"r\") as file:\n",
    "    for line in file:\n",
    "        mass = int(line)\n",
    "        fuel = fuel_counter_upper(mass)\n",
    "        while fuel > 0:\n",
    "            fuel = (fuel//3) - 2\n",
    "            result += fuel\n",
    "print(result)"
   ]
  },
  {
   "cell_type": "code",
   "execution_count": 29,
   "metadata": {},
   "outputs": [],
   "source": [
    "with open(\"puzzle_data.txt\", \"r\") as file:\n",
    "    data = file.read().split()"
   ]
  },
  {
   "cell_type": "code",
   "execution_count": 30,
   "metadata": {},
   "outputs": [
    {
     "name": "stdout",
     "output_type": "stream",
     "text": [
      "5040874\n"
     ]
    }
   ],
   "source": [
    "# Part 2\n",
    "def fuel_counter_upper(mass):\n",
    "    fuel_req = 0\n",
    "    fuel_req += (mass//3) - 2\n",
    "    return fuel_req\n",
    "result = 0\n",
    "fuel_requirement = 0\n",
    "def fuel_requirement_func(data):\n",
    "        result = 0\n",
    "        for line in data:\n",
    "            mass = int(line)\n",
    "            fuel = fuel_counter_upper(mass)\n",
    "            while fuel > 0:\n",
    "                result += fuel\n",
    "                fuel = fuel_counter_upper(fuel)\n",
    "        print(result)\n",
    "\n",
    "fuel_requirement_func(data)"
   ]
  }
 ],
 "metadata": {
  "kernelspec": {
   "display_name": "Python 3",
   "language": "python",
   "name": "python3"
  },
  "language_info": {
   "codemirror_mode": {
    "name": "ipython",
    "version": 3
   },
   "file_extension": ".py",
   "mimetype": "text/x-python",
   "name": "python",
   "nbconvert_exporter": "python",
   "pygments_lexer": "ipython3",
   "version": "3.9.13"
  },
  "orig_nbformat": 4
 },
 "nbformat": 4,
 "nbformat_minor": 2
}
