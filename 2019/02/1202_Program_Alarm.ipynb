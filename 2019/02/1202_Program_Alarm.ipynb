{
 "cells": [
  {
   "cell_type": "code",
   "execution_count": 195,
   "metadata": {},
   "outputs": [],
   "source": [
    "with open(\"intcode.txt\", \"r\") as file:\n",
    "    org_data = file.read().replace(\"\\n\", \"\").split(\",\")\n",
    "    org_data = [int(i) for i in org_data] # converting into int"
   ]
  },
  {
   "cell_type": "code",
   "execution_count": 196,
   "metadata": {},
   "outputs": [
    {
     "data": {
      "text/plain": [
       "113"
      ]
     },
     "execution_count": 196,
     "metadata": {},
     "output_type": "execute_result"
    }
   ],
   "source": [
    "\n",
    "\n",
    "# Test data\n",
    "data1 = [1,0,0,0,99]\n",
    "data2 = [2,3,0,3,99]\n",
    "data3 = [2,4,4,5,99,0]\n",
    "data4 = [1,1,1,4,99,5,6,0,99]\n",
    "len(org_data)\n"
   ]
  },
  {
   "cell_type": "code",
   "execution_count": 197,
   "metadata": {},
   "outputs": [],
   "source": [
    "# \n",
    "\n",
    "def intcode(org_data, noun, verb):\n",
    "    data = list(org_data)\n",
    "    data[1] = noun\n",
    "    data[2] = verb\n",
    "    for i in range(0, len(data), 4):\n",
    "        pos1 = data[i+1]\n",
    "        pos2 = data[i+2]\n",
    "        target = data[i+3]\n",
    "        if data[i] == 99:\n",
    "            return data[0]\n",
    "        elif data[i] == 1:\n",
    "            data[target] = data[pos1] + data[pos2]\n",
    "        elif data[i] == 2:\n",
    "            data[target] = data[pos1] * data[pos2]\n",
    "        #print(data, \"\\n\")\n"
   ]
  },
  {
   "cell_type": "code",
   "execution_count": 198,
   "metadata": {},
   "outputs": [
    {
     "data": {
      "text/plain": [
       "int"
      ]
     },
     "execution_count": 198,
     "metadata": {},
     "output_type": "execute_result"
    }
   ],
   "source": [
    "type(intcode(org_data, 12, 2))"
   ]
  },
  {
   "cell_type": "code",
   "execution_count": 199,
   "metadata": {},
   "outputs": [],
   "source": [
    "# #Code shortened by gpt-4\n",
    "\n",
    "# def intcode():\n",
    "#     data = [int(i) for i in open(\"intcode.txt\", \"r\").read().replace(\"\\n\", \"\").split(\",\")]\n",
    "#     data[1:3] = [12, 2]\n",
    "    \n",
    "#     for i in range(0, len(data), 4):\n",
    "#         op, pos1, pos2, target = data[i:i+4]\n",
    "#         if op == 99:\n",
    "#             return f\"The value in integer 0 is: {data[0]}\"\n",
    "#         elif op in (1, 2):\n",
    "#             data[target] = data[pos1] + data[pos2] if op == 1 else data[pos1] * data[pos2]\n",
    "#         print(data, \"\\n\")\n",
    "\n",
    "# intcode()\n"
   ]
  },
  {
   "cell_type": "code",
   "execution_count": 200,
   "metadata": {},
   "outputs": [],
   "source": [
    "# Part 2.\n",
    "# determine what pair of inputs produces the output 19690720\n",
    "# input between 0-99"
   ]
  },
  {
   "cell_type": "code",
   "execution_count": 201,
   "metadata": {},
   "outputs": [],
   "source": [
    "# Creating a loop to find output.\n",
    "def noun_verb():\n",
    "    value = 0\n",
    "    verb = 0\n",
    "    noun = 0\n",
    "    for i in range(0,99):\n",
    "        noun = i\n",
    "        for j in range(0,99):\n",
    "            verb = j\n",
    "            value = intcode(org_data, noun, verb)\n",
    "            if value == 19690720:\n",
    "                return value, noun, verb, 100 * noun + verb\n",
    "    "
   ]
  },
  {
   "cell_type": "code",
   "execution_count": 202,
   "metadata": {},
   "outputs": [
    {
     "data": {
      "text/plain": [
       "(19690720, 65, 77, 6577)"
      ]
     },
     "execution_count": 202,
     "metadata": {},
     "output_type": "execute_result"
    }
   ],
   "source": [
    "noun_verb()\n"
   ]
  }
 ],
 "metadata": {
  "kernelspec": {
   "display_name": "Python 3",
   "language": "python",
   "name": "python3"
  },
  "language_info": {
   "codemirror_mode": {
    "name": "ipython",
    "version": 3
   },
   "file_extension": ".py",
   "mimetype": "text/x-python",
   "name": "python",
   "nbconvert_exporter": "python",
   "pygments_lexer": "ipython3",
   "version": "3.9.13"
  },
  "orig_nbformat": 4
 },
 "nbformat": 4,
 "nbformat_minor": 2
}
