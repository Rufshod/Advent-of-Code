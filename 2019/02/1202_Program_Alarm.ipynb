{
 "cells": [
  {
   "cell_type": "code",
   "execution_count": 2,
   "metadata": {},
   "outputs": [],
   "source": [
    "with open(\"intcode.txt\", \"r\") as file:\n",
    "    org_data = file.read().replace(\"\\n\", \"\").split(\",\")\n",
    "    org_data = [int(i) for i in org_data] # converting into int"
   ]
  },
  {
   "cell_type": "code",
   "execution_count": 3,
   "metadata": {},
   "outputs": [
    {
     "data": {
      "text/plain": [
       "113"
      ]
     },
     "execution_count": 3,
     "metadata": {},
     "output_type": "execute_result"
    }
   ],
   "source": [
    "\n",
    "\n",
    "# Test data\n",
    "data1 = [1,0,0,0,99]\n",
    "data2 = [2,3,0,3,99]\n",
    "data3 = [2,4,4,5,99,0]\n",
    "data4 = [1,1,1,4,99,5,6,0,99]\n",
    "len(org_data)\n"
   ]
  },
  {
   "cell_type": "code",
   "execution_count": 4,
   "metadata": {},
   "outputs": [],
   "source": [
    "# \n",
    "\n",
    "def intcode(org_data, noun, verb):\n",
    "    data = list(org_data)\n",
    "    data[1] = noun\n",
    "    data[2] = verb\n",
    "    for i in range(0, len(data), 4):\n",
    "        pos1 = data[i+1]\n",
    "        pos2 = data[i+2]\n",
    "        target = data[i+3]\n",
    "        if data[i] == 99:\n",
    "            return data[0]\n",
    "        elif data[i] == 1:\n",
    "            data[target] = data[pos1] + data[pos2]\n",
    "        elif data[i] == 2:\n",
    "            data[target] = data[pos1] * data[pos2]\n",
    "        #print(data, \"\\n\")\n"
   ]
  },
  {
   "cell_type": "code",
   "execution_count": 5,
   "metadata": {},
   "outputs": [
    {
     "data": {
      "text/plain": [
       "int"
      ]
     },
     "execution_count": 5,
     "metadata": {},
     "output_type": "execute_result"
    }
   ],
   "source": [
    "type(intcode(org_data, 12, 2))"
   ]
  },
  {
   "cell_type": "code",
   "execution_count": 6,
   "metadata": {},
   "outputs": [],
   "source": [
    "# #Code shortened by gpt-4\n",
    "\n",
    "# def intcode():\n",
    "#     data = [int(i) for i in open(\"intcode.txt\", \"r\").read().replace(\"\\n\", \"\").split(\",\")]\n",
    "#     data[1:3] = [12, 2]\n",
    "    \n",
    "#     for i in range(0, len(data), 4):\n",
    "#         op, pos1, pos2, target = data[i:i+4]\n",
    "#         if op == 99:\n",
    "#             return f\"The value in integer 0 is: {data[0]}\"\n",
    "#         elif op in (1, 2):\n",
    "#             data[target] = data[pos1] + data[pos2] if op == 1 else data[pos1] * data[pos2]\n",
    "#         print(data, \"\\n\")\n",
    "\n",
    "# intcode()\n"
   ]
  },
  {
   "cell_type": "code",
   "execution_count": 7,
   "metadata": {},
   "outputs": [],
   "source": [
    "# Part 2.\n",
    "# determine what pair of inputs produces the output 19690720\n",
    "# input between 0-99"
   ]
  },
  {
   "cell_type": "code",
   "execution_count": 8,
   "metadata": {},
   "outputs": [],
   "source": [
    "# Creating a loop to find output.\n",
    "def noun_verb():\n",
    "    value = 0\n",
    "    verb = 0\n",
    "    noun = 0\n",
    "    for i in range(0,99):\n",
    "        noun = i\n",
    "        for j in range(0,99):\n",
    "            verb = j\n",
    "            value = intcode(org_data, noun, verb)\n",
    "            if value == 19690720:\n",
    "                return value, noun, verb, 100 * noun + verb\n",
    "    "
   ]
  },
  {
   "cell_type": "code",
   "execution_count": 10,
   "metadata": {},
   "outputs": [
    {
     "data": {
      "text/plain": [
       "(19690720, 65, 77, 6577)"
      ]
     },
     "execution_count": 10,
     "metadata": {},
     "output_type": "execute_result"
    }
   ],
   "source": [
    "\n",
    "noun_verb()\n"
   ]
  },
  {
   "cell_type": "code",
   "execution_count": 17,
   "metadata": {},
   "outputs": [
    {
     "name": "stdout",
     "output_type": "stream",
     "text": [
      "3,225,1,225,6,6,1100,1,238,225,104,0,1002,114,46,224,1001,224,-736,224,4,224,1002,223,8,223,1001,224,3,224,1,223,224,223,1,166,195,224,1001,224,-137,224,4,224,102,8,223,223,101,5,224,224,1,223,224,223,1001,169,83,224,1001,224,-90,224,4,224,102,8,223,223,1001,224,2,224,1,224,223,223,101,44,117,224,101,-131,224,224,4,224,1002,223,8,223,101,5,224,224,1,224,223,223,1101,80,17,225,1101,56,51,225,1101,78,89,225,1102,48,16,225,1101,87,78,225,1102,34,33,224,101,-1122,224,224,4,224,1002,223,8,223,101,7,224,224,1,223,224,223,1101,66,53,224,101,-119,224,224,4,224,102,8,223,223,1001,224,5,224,1,223,224,223,1102,51,49,225,1101,7,15,225,2,110,106,224,1001,224,-4539,224,4,224,102,8,223,223,101,3,224,224,1,223,224,223,1102,88,78,225,102,78,101,224,101,-6240,224,224,4,224,1002,223,8,223,101,5,224,224,1,224,223,223,4,223,99,0,0,0,677,0,0,0,0,0,0,0,0,0,0,0,1105,0,99999,1105,227,247,1105,1,99999,1005,227,99999,1005,0,256,1105,1,99999,1106,227,99999,1106,0,265,1105,1,99999,1006,0,99999,1006,227,274,1105,1,99999,1105,1,280,1105,1,99999,1,225,225,225,1101,294,0,0,105,1,0,1105,1,99999,1106,0,300,1105,1,99999,1,225,225,225,1101,314,0,0,106,0,0,1105,1,99999,1107,226,677,224,102,2,223,223,1006,224,329,101,1,223,223,1108,226,677,224,1002,223,2,223,1005,224,344,101,1,223,223,8,226,677,224,102,2,223,223,1006,224,359,1001,223,1,223,1007,226,677,224,1002,223,2,223,1005,224,374,101,1,223,223,1008,677,677,224,1002,223,2,223,1005,224,389,1001,223,1,223,1108,677,226,224,1002,223,2,223,1006,224,404,1001,223,1,223,1007,226,226,224,1002,223,2,223,1005,224,419,1001,223,1,223,1107,677,226,224,1002,223,2,223,1006,224,434,101,1,223,223,108,677,677,224,1002,223,2,223,1005,224,449,1001,223,1,223,1107,677,677,224,102,2,223,223,1005,224,464,1001,223,1,223,108,226,226,224,1002,223,2,223,1006,224,479,1001,223,1,223,1008,226,226,224,102,2,223,223,1005,224,494,101,1,223,223,108,677,226,224,102,2,223,223,1005,224,509,1001,223,1,223,8,677,226,224,1002,223,2,223,1006,224,524,101,1,223,223,7,226,677,224,1002,223,2,223,1006,224,539,101,1,223,223,7,677,226,224,102,2,223,223,1006,224,554,1001,223,1,223,7,226,226,224,1002,223,2,223,1006,224,569,101,1,223,223,107,677,677,224,102,2,223,223,1006,224,584,101,1,223,223,1108,677,677,224,102,2,223,223,1006,224,599,1001,223,1,223,1008,677,226,224,1002,223,2,223,1005,224,614,1001,223,1,223,8,677,677,224,1002,223,2,223,1006,224,629,1001,223,1,223,107,226,677,224,1002,223,2,223,1006,224,644,101,1,223,223,1007,677,677,224,102,2,223,223,1006,224,659,101,1,223,223,107,226,226,224,1002,223,2,223,1006,224,674,1001,223,1,223,4,223,99,226\n",
      "\n"
     ]
    }
   ],
   "source": [
    "with open('../data/05.txt', 'r') as file:\n",
    "    data = file.read() # TODO format data here\n",
    "\n",
    "print(data)"
   ]
  },
  {
   "cell_type": "code",
   "execution_count": 14,
   "metadata": {},
   "outputs": [],
   "source": [
    "# Day 5: Sunny with a Chance of Asteroids \n",
    "\n",
    "# Setup\n",
    "\n",
    "# Part 1\n",
    "# \n",
    "# Code from day 2 \n",
    "def intcode(org_data, noun = 12, verb = 2):\n",
    "    data = list(org_data)\n",
    "    data[1] = noun\n",
    "    data[2] = verb\n",
    "    for i in range(0, len(data), 4):\n",
    "        pos1 = data[i+1]\n",
    "        pos2 = data[i+2]\n",
    "        target = data[i+3]\n",
    "        if data[i] == 99:\n",
    "            return data[0]\n",
    "        elif data[i] == 1: # opcode 1\n",
    "            data[target] = data[pos1] + data[pos2]\n",
    "        elif data[i] == 2: # opcode 2\n",
    "            data[target] = data[pos1] * data[pos2]\n",
    "        elif data[i] == 3: # opcode 3\n",
    "            data[pos1] = data[pos1]\n",
    "        elif data[i] == 4: # opcode 4\n",
    "            output = data[pos1]\n",
    "            print(f\"Output: {output}\")\n",
    "            i += 2\n",
    "#print(data, \"\\n\")\n",
    "\n",
    "\n"
   ]
  },
  {
   "cell_type": "code",
   "execution_count": 27,
   "metadata": {},
   "outputs": [
    {
     "name": "stdout",
     "output_type": "stream",
     "text": [
      "0\n",
      "0\n",
      "0\n",
      "0\n",
      "0\n",
      "0\n",
      "0\n",
      "0\n",
      "0\n",
      "7692125\n"
     ]
    }
   ],
   "source": []
  },
  {
   "cell_type": "code",
   "execution_count": null,
   "metadata": {},
   "outputs": [],
   "source": []
  }
 ],
 "metadata": {
  "kernelspec": {
   "display_name": "Python 3",
   "language": "python",
   "name": "python3"
  },
  "language_info": {
   "codemirror_mode": {
    "name": "ipython",
    "version": 3
   },
   "file_extension": ".py",
   "mimetype": "text/x-python",
   "name": "python",
   "nbconvert_exporter": "python",
   "pygments_lexer": "ipython3",
   "version": "3.9.13"
  },
  "orig_nbformat": 4
 },
 "nbformat": 4,
 "nbformat_minor": 2
}
