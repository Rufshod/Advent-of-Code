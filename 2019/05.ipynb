{
 "cells": [
  {
   "cell_type": "code",
   "execution_count": 3,
   "metadata": {},
   "outputs": [
    {
     "name": "stdout",
     "output_type": "stream",
     "text": [
      "0\n",
      "0\n",
      "0\n",
      "0\n",
      "0\n",
      "0\n",
      "0\n",
      "0\n",
      "0\n",
      "0\n",
      "7692125\n"
     ]
    }
   ],
   "source": [
    "# This function retrieves the value based on the parameter mode\n",
    "def get_param(data, mode, index):\n",
    "    if mode == 0:  # position mode\n",
    "        return data[data[index]]\n",
    "    elif mode == 1:  # immediate mode\n",
    "        return data[index]\n",
    "    else:\n",
    "        raise ValueError(f\"Unknown mode: {mode}\")\n",
    "\n",
    "def intcode(data, input_value):\n",
    "    i = 0\n",
    "    print(i)\n",
    "    while i < len(data):\n",
    "        opcode = data[i] % 100  # only the last two digits are the opcode\n",
    "        modes = [data[i] // 100 // 10 ** n % 10 for n in range(3)]  # extract parameter modes\n",
    "\n",
    "        if opcode == 99:  # halt\n",
    "            break\n",
    "        elif opcode == 1:  # addition\n",
    "            data[data[i + 3]] = get_param(data, modes[0], i + 1) + get_param(data, modes[1], i + 2)\n",
    "            i += 4\n",
    "        elif opcode == 2:  # multiplication\n",
    "            data[data[i + 3]] = get_param(data, modes[0], i + 1) * get_param(data, modes[1], i + 2)\n",
    "            i += 4\n",
    "        elif opcode == 3:  # input\n",
    "            data[data[i + 1]] = input_value\n",
    "            i += 2\n",
    "        elif opcode == 4:  # output\n",
    "            print(get_param(data, modes[0], i + 1))\n",
    "            i += 2\n",
    "        else:\n",
    "            raise ValueError(f\"Unknown opcode encountered: {opcode}\")\n",
    "\n",
    "# Read the data\n",
    "with open('data/05.txt', 'r') as file:\n",
    "    data = file.read() \n",
    "    data = data.split(',')\n",
    "    data = [int(i) for i in data]\n",
    "\n",
    "# Run the program\n",
    "intcode(data, input_value=1)\n"
   ]
  },
  {
   "cell_type": "code",
   "execution_count": 7,
   "metadata": {},
   "outputs": [],
   "source": [
    "List = [1,2,3,4,5,6,7,8,9,10]"
   ]
  },
  {
   "cell_type": "code",
   "execution_count": 8,
   "metadata": {},
   "outputs": [
    {
     "ename": "TypeError",
     "evalue": "list indices must be integers or slices, not type",
     "output_type": "error",
     "traceback": [
      "\u001b[1;31m---------------------------------------------------------------------------\u001b[0m",
      "\u001b[1;31mTypeError\u001b[0m                                 Traceback (most recent call last)",
      "Cell \u001b[1;32mIn[8], line 1\u001b[0m\n\u001b[1;32m----> 1\u001b[0m \u001b[39mclass\u001b[39;00m \u001b[39mSolution\u001b[39;00m:\n\u001b[0;32m      2\u001b[0m     \u001b[39mdef\u001b[39;00m \u001b[39mcontainsDuplicate\u001b[39m(\u001b[39mself\u001b[39m, nums: List[\u001b[39mint\u001b[39m]) \u001b[39m-\u001b[39m\u001b[39m>\u001b[39m \u001b[39mbool\u001b[39m:\n\u001b[0;32m      3\u001b[0m         \u001b[39mif\u001b[39;00m \u001b[39mlen\u001b[39m(List) \u001b[39m==\u001b[39m \u001b[39mlen\u001b[39m(\u001b[39mset\u001b[39m(List)):\n",
      "Cell \u001b[1;32mIn[8], line 2\u001b[0m, in \u001b[0;36mSolution\u001b[1;34m()\u001b[0m\n\u001b[0;32m      1\u001b[0m \u001b[39mclass\u001b[39;00m \u001b[39mSolution\u001b[39;00m:\n\u001b[1;32m----> 2\u001b[0m     \u001b[39mdef\u001b[39;00m \u001b[39mcontainsDuplicate\u001b[39m(\u001b[39mself\u001b[39m, nums: List[\u001b[39mint\u001b[39;49m]) \u001b[39m-\u001b[39m\u001b[39m>\u001b[39m \u001b[39mbool\u001b[39m:\n\u001b[0;32m      3\u001b[0m         \u001b[39mif\u001b[39;00m \u001b[39mlen\u001b[39m(List) \u001b[39m==\u001b[39m \u001b[39mlen\u001b[39m(\u001b[39mset\u001b[39m(List)):\n\u001b[0;32m      4\u001b[0m             \u001b[39mreturn\u001b[39;00m \u001b[39mTrue\u001b[39;00m\n",
      "\u001b[1;31mTypeError\u001b[0m: list indices must be integers or slices, not type"
     ]
    }
   ],
   "source": [
    "\n",
    "\n",
    "class Solution:\n",
    "    def containsDuplicate(self, nums: List[int]) -> bool:\n",
    "        if len(List) == len(set(List)):\n",
    "            return True"
   ]
  },
  {
   "cell_type": "code",
   "execution_count": null,
   "metadata": {},
   "outputs": [],
   "source": []
  },
  {
   "cell_type": "code",
   "execution_count": null,
   "metadata": {},
   "outputs": [],
   "source": []
  }
 ],
 "metadata": {
  "kernelspec": {
   "display_name": "Python 3",
   "language": "python",
   "name": "python3"
  },
  "language_info": {
   "codemirror_mode": {
    "name": "ipython",
    "version": 3
   },
   "file_extension": ".py",
   "mimetype": "text/x-python",
   "name": "python",
   "nbconvert_exporter": "python",
   "pygments_lexer": "ipython3",
   "version": "3.9.13"
  },
  "orig_nbformat": 4
 },
 "nbformat": 4,
 "nbformat_minor": 2
}
